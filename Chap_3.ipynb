{
 "cells": [
  {
   "cell_type": "code",
   "execution_count": 3,
   "metadata": {},
   "outputs": [
    {
     "name": "stdout",
     "output_type": "stream",
     "text": [
      "Enter the temperature in fehranheit: -40\n",
      "The temperature in Celcius is:  -40.0\n"
     ]
    }
   ],
   "source": [
    "#Problem:3.1\n",
    "F=eval(input(\"Enter the temperature in fehranheit: \"))\n",
    "C=((F-32)/9)*5\n",
    "print(\"The temperature in Celcius is: \",C)"
   ]
  },
  {
   "cell_type": "code",
   "execution_count": 3,
   "metadata": {},
   "outputs": [
    {
     "name": "stdout",
     "output_type": "stream",
     "text": [
      "Enter the total num of list: 4\n",
      "Enter the text to list:Huzaifa\n",
      "Enter the text to list:Hamza\n",
      "Enter the text to list:Hammad\n",
      "Enter the text to list:Wajid\n",
      "List is:  ['Huzaifa', 'Hamza', 'Hammad', 'Wajid']\n",
      "Enter your id: Hamza\n",
      "you are in!\n"
     ]
    }
   ],
   "source": [
    "#Problem:3.4\n",
    "n=eval(input(\"Enter the total num of list: \"))\n",
    "list = []\n",
    "for i in range(0,n):\n",
    "    text=str(input(\"Enter the text to list:\"))\n",
    "    list.append(text)\n",
    "print(\"List is: \",list)\n",
    "id=str(input(\"Enter your id: \"))\n",
    "if id in list:\n",
    "    print(\"you are in!\")\n",
    "else:\n",
    "    print(\"Unknown person!\")\n",
    "\n",
    "    "
   ]
  },
  {
   "cell_type": "code",
   "execution_count": 10,
   "metadata": {},
   "outputs": [
    {
     "name": "stdout",
     "output_type": "stream",
     "text": [
      "0\n",
      "1\n",
      "2\n",
      "3\n",
      "4\n",
      "5\n",
      "6\n",
      "7\n",
      "8\n",
      "9\n",
      "0\n",
      "1\n"
     ]
    }
   ],
   "source": [
    "#Problem:3.6\n",
    "for i in range(10):\n",
    "    print(i)\n",
    "for i in range(2):\n",
    "    print(i)"
   ]
  },
  {
   "cell_type": "code",
   "execution_count": 20,
   "metadata": {},
   "outputs": [
    {
     "name": "stdout",
     "output_type": "stream",
     "text": [
      "0\n",
      "2\n",
      "4\n",
      "6\n",
      "8\n"
     ]
    }
   ],
   "source": [
    "#Problem:3.7(b):\n",
    "for i in range(0,10,2):\n",
    "    print(i)\n",
    "\n"
   ]
  },
  {
   "cell_type": "code",
   "execution_count": 21,
   "metadata": {},
   "outputs": [
    {
     "name": "stdout",
     "output_type": "stream",
     "text": [
      "0\n",
      "3\n",
      "6\n",
      "9\n",
      "12\n",
      "15\n",
      "18\n",
      "21\n"
     ]
    }
   ],
   "source": [
    "#Problem:3.7(c)\n",
    "for i in range(0,24,3):\n",
    "    print(i)"
   ]
  },
  {
   "cell_type": "code",
   "execution_count": 22,
   "metadata": {},
   "outputs": [
    {
     "name": "stdout",
     "output_type": "stream",
     "text": [
      "3\n",
      "8\n"
     ]
    }
   ],
   "source": [
    "#Problem:3.7(d)\n",
    "for i in range(3,12,5):\n",
    "    print(i)"
   ]
  },
  {
   "cell_type": "code",
   "execution_count": 25,
   "metadata": {},
   "outputs": [
    {
     "name": "stdout",
     "output_type": "stream",
     "text": [
      "Perimeter of circle is:  31.41592653589793\n"
     ]
    }
   ],
   "source": [
    "#Problem:3.8\n",
    "from math import pi\n",
    "def perimeter(r):\n",
    "    perimeter=2*pi*r\n",
    "    print(\"Perimeter of circle is: \",perimeter)\n",
    "    return\n",
    "perimeter(5)"
   ]
  },
  {
   "cell_type": "code",
   "execution_count": 26,
   "metadata": {},
   "outputs": [
    {
     "name": "stdout",
     "output_type": "stream",
     "text": [
      "The average is:  6.0\n"
     ]
    }
   ],
   "source": [
    "#Problem:3.9\n",
    "def average(x,y):\n",
    "    average= (x+y)/2\n",
    "    print(\"The average is: \",average)\n",
    "    return\n",
    "average(3,9)"
   ]
  },
  {
   "cell_type": "code",
   "execution_count": 42,
   "metadata": {},
   "outputs": [
    {
     "name": "stdout",
     "output_type": "stream",
     "text": [
      "Enter your string: hamza\n"
     ]
    },
    {
     "data": {
      "text/plain": [
       "False"
      ]
     },
     "execution_count": 42,
     "metadata": {},
     "output_type": "execute_result"
    }
   ],
   "source": [
    "#Problem:3.10\n",
    "def vowel():\n",
    "    s=str(input(\"Enter your string: \"))\n",
    "    for c in s:\n",
    "        if c in 'aeiouAEIOU':\n",
    "            return False\n",
    "    return True\n",
    "vowel()\n",
    "    "
   ]
  },
  {
   "cell_type": "code",
   "execution_count": 58,
   "metadata": {},
   "outputs": [
    {
     "name": "stdout",
     "output_type": "stream",
     "text": [
      "['apple', 'cocunut', 'mango', 'banana']\n"
     ]
    }
   ],
   "source": [
    "#Problem:3.16\n",
    "lst=['banana','cocunut','mango','apple']\n",
    "def swapFL(lst):\n",
    "    lst[0], lst[-1] = lst[-1], lst[0]\n",
    "    print(lst)\n",
    "    return\n",
    "swapFL(lst)"
   ]
  },
  {
   "cell_type": "code",
   "execution_count": 57,
   "metadata": {},
   "outputs": [
    {
     "name": "stdout",
     "output_type": "stream",
     "text": [
      "7\n"
     ]
    },
    {
     "ename": "NameError",
     "evalue": "name 'hello' is not defined",
     "output_type": "error",
     "traceback": [
      "\u001b[1;31m---------------------------------------------------------------------------\u001b[0m",
      "\u001b[1;31mNameError\u001b[0m                                 Traceback (most recent call last)",
      "\u001b[1;32m<ipython-input-57-93c7fa3929c5>\u001b[0m in \u001b[0;36m<module>\u001b[1;34m\u001b[0m\n\u001b[0;32m      2\u001b[0m \u001b[0ma\u001b[0m\u001b[1;33m=\u001b[0m\u001b[0meval\u001b[0m\u001b[1;33m(\u001b[0m\u001b[1;34m'2*3+1'\u001b[0m\u001b[1;33m)\u001b[0m\u001b[1;33m\u001b[0m\u001b[1;33m\u001b[0m\u001b[0m\n\u001b[0;32m      3\u001b[0m \u001b[0mprint\u001b[0m\u001b[1;33m(\u001b[0m\u001b[0ma\u001b[0m\u001b[1;33m)\u001b[0m\u001b[1;33m\u001b[0m\u001b[1;33m\u001b[0m\u001b[0m\n\u001b[1;32m----> 4\u001b[1;33m \u001b[0mb\u001b[0m\u001b[1;33m=\u001b[0m\u001b[0meval\u001b[0m\u001b[1;33m(\u001b[0m\u001b[1;34m'hello'\u001b[0m\u001b[1;33m)\u001b[0m\u001b[1;33m\u001b[0m\u001b[1;33m\u001b[0m\u001b[0m\n\u001b[0m\u001b[0;32m      5\u001b[0m \u001b[0mprint\u001b[0m\u001b[1;33m(\u001b[0m\u001b[0mb\u001b[0m\u001b[1;33m)\u001b[0m\u001b[1;33m\u001b[0m\u001b[1;33m\u001b[0m\u001b[0m\n",
      "\u001b[1;32m<string>\u001b[0m in \u001b[0;36m<module>\u001b[1;34m\u001b[0m\n",
      "\u001b[1;31mNameError\u001b[0m: name 'hello' is not defined"
     ]
    }
   ],
   "source": [
    "#Problem:3.17\n",
    "a=eval('2*3+1')\n",
    "print(a)\n",
    "b=eval('hello')\n",
    "print(b)"
   ]
  },
  {
   "cell_type": "code",
   "execution_count": 60,
   "metadata": {},
   "outputs": [
    {
     "name": "stdout",
     "output_type": "stream",
     "text": [
      "2\n"
     ]
    },
    {
     "ename": "SyntaxError",
     "evalue": "invalid syntax (<string>, line 1)",
     "output_type": "error",
     "traceback": [
      "Traceback \u001b[1;36m(most recent call last)\u001b[0m:\n",
      "  File \u001b[0;32m\"C:\\Users\\Huzaifa Shaikh\\Anaconda3\\lib\\site-packages\\IPython\\core\\interactiveshell.py\"\u001b[0m, line \u001b[0;32m3325\u001b[0m, in \u001b[0;35mrun_code\u001b[0m\n    exec(code_obj, self.user_global_ns, self.user_ns)\n",
      "\u001b[1;36m  File \u001b[1;32m\"<ipython-input-60-e6438d95ee63>\"\u001b[1;36m, line \u001b[1;32m4\u001b[1;36m, in \u001b[1;35m<module>\u001b[1;36m\u001b[0m\n\u001b[1;33m    p=eval('x=5')\u001b[0m\n",
      "\u001b[1;36m  File \u001b[1;32m\"<string>\"\u001b[1;36m, line \u001b[1;32m1\u001b[0m\n\u001b[1;33m    x=5\u001b[0m\n\u001b[1;37m     ^\u001b[0m\n\u001b[1;31mSyntaxError\u001b[0m\u001b[1;31m:\u001b[0m invalid syntax\n"
     ]
    }
   ],
   "source": [
    "#Problem:3.17\n",
    "m=eval(\"'ASCII'.count('I')\")\n",
    "print(m)\n",
    "p=eval('x=5')\n",
    "print(p)"
   ]
  },
  {
   "cell_type": "code",
   "execution_count": 54,
   "metadata": {},
   "outputs": [
    {
     "name": "stdout",
     "output_type": "stream",
     "text": [
      "(a)Ok\n",
      "(b)Not ok\n",
      "(c)Not ok\n",
      "(d)OK\n"
     ]
    }
   ],
   "source": [
    "#Problem:3.18,3.19\n",
    "a=3\n",
    "b=4\n",
    "c=5\n",
    "if a < b:\n",
    "    print(\"(a)Ok\")\n",
    "else:\n",
    "    print(\"(a)Not ok\")\n",
    "if c < b:\n",
    "    print(\"(b)OK\")\n",
    "else:\n",
    "    print(\"(b)Not ok\")\n",
    "if a+b == c:\n",
    "    print(\"(c)OK\")\n",
    "else:\n",
    "    print(\"(c)Not ok\")\n",
    "if (a**2)+(b**2) == c**2:\n",
    "    print(\"(d)OK\")\n",
    "else:\n",
    "    print(\"(d)Not ok\")"
   ]
  },
  {
   "cell_type": "code",
   "execution_count": 64,
   "metadata": {},
   "outputs": [
    {
     "name": "stdout",
     "output_type": "stream",
     "text": [
      "Jan\n",
      "Feb\n",
      "Mar\n"
     ]
    }
   ],
   "source": [
    "#Problem:3.20\n",
    "list=['January', 'February', 'March']\n",
    "for i in list:\n",
    "    print(i[:3])"
   ]
  },
  {
   "cell_type": "code",
   "execution_count": 66,
   "metadata": {},
   "outputs": [
    {
     "name": "stdout",
     "output_type": "stream",
     "text": [
      "2\n",
      "4\n",
      "6\n",
      "8\n"
     ]
    }
   ],
   "source": [
    "#Problem:3.21\n",
    "list=[2, 3, 4, 5, 6, 7, 8, 9]\n",
    "for i in range(2,9):\n",
    "    if i%2 == 0:\n",
    "        print(i)"
   ]
  },
  {
   "cell_type": "code",
   "execution_count": 70,
   "metadata": {},
   "outputs": [
    {
     "name": "stdout",
     "output_type": "stream",
     "text": [
      "4\n",
      "8\n"
     ]
    }
   ],
   "source": [
    "#Problem:3.22\n",
    "list=[2, 3, 4, 5, 6, 7, 8, 9]\n",
    "for i in range(2,9):\n",
    "    if i**2%8 == 0:\n",
    "        print(i)"
   ]
  },
  {
   "cell_type": "code",
   "execution_count": 87,
   "metadata": {},
   "outputs": [
    {
     "name": "stdout",
     "output_type": "stream",
     "text": [
      "0 1 "
     ]
    }
   ],
   "source": [
    "#Problem:3.23(a)\n",
    "for i in range(0,2):\n",
    "    print(i,end=' ')\n",
    "\n",
    "\n"
   ]
  },
  {
   "cell_type": "code",
   "execution_count": 86,
   "metadata": {},
   "outputs": [
    {
     "name": "stdout",
     "output_type": "stream",
     "text": [
      "0 "
     ]
    }
   ],
   "source": [
    "for i in range(0,1):\n",
    "    print(i,end=' ')"
   ]
  },
  {
   "cell_type": "code",
   "execution_count": 83,
   "metadata": {},
   "outputs": [
    {
     "name": "stdout",
     "output_type": "stream",
     "text": [
      "3 4 5 6 "
     ]
    }
   ],
   "source": [
    "for i in range(3,7):\n",
    "    print(i,end=\" \")"
   ]
  },
  {
   "cell_type": "code",
   "execution_count": 91,
   "metadata": {},
   "outputs": [
    {
     "name": "stdout",
     "output_type": "stream",
     "text": [
      "1 "
     ]
    }
   ],
   "source": [
    "for i in range(1,2):\n",
    "    print(i,end=\" \")"
   ]
  },
  {
   "cell_type": "code",
   "execution_count": 93,
   "metadata": {},
   "outputs": [
    {
     "name": "stdout",
     "output_type": "stream",
     "text": [
      "0 3 "
     ]
    }
   ],
   "source": [
    "for i in range(0,4,3):\n",
    "    print(i,end=\" \")"
   ]
  },
  {
   "cell_type": "code",
   "execution_count": 96,
   "metadata": {},
   "outputs": [
    {
     "name": "stdout",
     "output_type": "stream",
     "text": [
      "5 9 13 17 21 "
     ]
    }
   ],
   "source": [
    "for i in range(5,22,4):\n",
    "    print(i,end=\" \")"
   ]
  },
  {
   "cell_type": "code",
   "execution_count": 97,
   "metadata": {},
   "outputs": [
    {
     "name": "stdout",
     "output_type": "stream",
     "text": [
      "Enter the length of your list: 6\n",
      "Enter the text to list: cia\n",
      "Enter the text to list: secret\n",
      "Enter the text to list: mia\n",
      "Enter the text to list: isi\n",
      "Enter the text to list: secret\n",
      "Enter the text to list: mik\n",
      "['cia', 'secret', 'mia', 'isi', 'secret', 'mik']\n",
      "['cia', 'mia', 'isi', 'mik']\n"
     ]
    }
   ],
   "source": [
    "#Problem:3.24\n",
    "n=eval(input(\"Enter the length of your list: \"))\n",
    "list = []\n",
    "for i in range(0,n):\n",
    "    text=str(input(\"Enter the text to list: \"))\n",
    "    list.append(text)\n",
    "print(list)\n",
    "for a in list:\n",
    "    if a =='secret':\n",
    "        list.remove(\"secret\")\n",
    "print(list)"
   ]
  },
  {
   "cell_type": "code",
   "execution_count": 103,
   "metadata": {},
   "outputs": [
    {
     "name": "stdout",
     "output_type": "stream",
     "text": [
      "Enter the lenght of your list: 6\n",
      "Enter the text to list: Huzaifa\n",
      "Enter the text to list: Maaz\n",
      "Enter the text to list: Noman\n",
      "Enter the text to list: Zain\n",
      "Enter the text to list: Omair\n",
      "Enter the text to list: Danish\n",
      "['Huzaifa', 'Maaz', 'Noman', 'Zain', 'Omair', 'Danish']\n",
      "Huzaifa\n",
      "Maaz\n",
      "Danish\n"
     ]
    }
   ],
   "source": [
    "#Problem:3.25\n",
    "n=eval(input(\"Enter the lenght of your list: \"))\n",
    "list=[]\n",
    "for i in range(0,n):\n",
    "    text=str(input(\"Enter the text to list: \"))\n",
    "    list.append(text)\n",
    "print(list)\n",
    "for j in list:\n",
    "    if j[0] in \"ABCDEFGHIJKLM\":\n",
    "        print(j)\n"
   ]
  },
  {
   "cell_type": "code",
   "execution_count": 104,
   "metadata": {},
   "outputs": [
    {
     "name": "stdout",
     "output_type": "stream",
     "text": [
      "Enter the lenght of your list: 4\n",
      "Enter the text to list: 1\n",
      "Enter the text to list: 5\n",
      "Enter the text to list: 4\n",
      "Enter the text to list: 8\n",
      "['1', '5', '4', '8']\n",
      "The first element of list is:  1\n",
      "The last element of list is:  8\n"
     ]
    }
   ],
   "source": [
    "#Problem:3.26\n",
    "n=eval(input(\"Enter the lenght of your list: \"))\n",
    "list=[]\n",
    "for i in range(0,n):\n",
    "    text=str(input(\"Enter the text to list: \"))\n",
    "    list.append(text)\n",
    "print(list)\n",
    "print(\"The first element of list is: \",list[0])\n",
    "print(\"The last element of list is: \",list[-1])"
   ]
  },
  {
   "cell_type": "code",
   "execution_count": 107,
   "metadata": {},
   "outputs": [
    {
     "name": "stdout",
     "output_type": "stream",
     "text": [
      "Enter the nth value: 5\n",
      "0\n",
      "5\n",
      "10\n",
      "15\n",
      "20\n"
     ]
    }
   ],
   "source": [
    "#Problem:3.27\n",
    "n=eval(input(\"Enter the nth value: \"))\n",
    "for i in range(0,21):\n",
    "    if i%n == 0:\n",
    "        print(i)"
   ]
  },
  {
   "cell_type": "code",
   "execution_count": 108,
   "metadata": {},
   "outputs": [
    {
     "name": "stdout",
     "output_type": "stream",
     "text": [
      "Enter the number: 3\n",
      "0\n",
      "1\n",
      "4\n"
     ]
    }
   ],
   "source": [
    "#Problem:3.28\n",
    "n=eval(input(\"Enter the number: \"))\n",
    "for i in range(0,n):\n",
    "    result=i**2\n",
    "    print(result)"
   ]
  },
  {
   "cell_type": "code",
   "execution_count": 114,
   "metadata": {},
   "outputs": [
    {
     "name": "stdout",
     "output_type": "stream",
     "text": [
      "Enter the number: 49\n",
      "1\n",
      "7\n",
      "49\n"
     ]
    }
   ],
   "source": [
    "#Problem:3.29\n",
    "n=eval(input(\"Enter the number: \"))\n",
    "for i in range(1,n+1):\n",
    "       if(n%i==0):\n",
    "             print(i)\n",
    "    "
   ]
  },
  {
   "cell_type": "code",
   "execution_count": 115,
   "metadata": {},
   "outputs": [
    {
     "name": "stdout",
     "output_type": "stream",
     "text": [
      "Enter the number: 4.5\n",
      "Enter the number: 3\n",
      "Enter the number: 3\n",
      "Enter the number: 3.5\n",
      "EQUAL\n"
     ]
    }
   ],
   "source": [
    "#Problem:3.30\n",
    "n1=eval(input(\"Enter the number: \"))\n",
    "n2=eval(input(\"Enter the number: \"))\n",
    "n3=eval(input(\"Enter the number: \"))\n",
    "n4=eval(input(\"Enter the number: \"))\n",
    "average=(n1+n2+n3)/3\n",
    "if average == n4:\n",
    "    print(\"EQUAL\")"
   ]
  },
  {
   "cell_type": "code",
   "execution_count": 2,
   "metadata": {},
   "outputs": [
    {
     "name": "stdout",
     "output_type": "stream",
     "text": [
      "Enter the value of x coordinate: 2.5\n",
      "Enetr the value of y coordinate: 4\n",
      "It is in!\n"
     ]
    }
   ],
   "source": [
    "#Problem:3.31\n",
    "x=eval(input(\"Enter the value of x coordinate: \"))\n",
    "y=eval(input(\"Enetr the value of y coordinate: \"))\n",
    "if (x and y) <=  10 and (x and y) >= -10:\n",
    "    print(\"It is in!\")"
   ]
  },
  {
   "cell_type": "code",
   "execution_count": 6,
   "metadata": {},
   "outputs": [
    {
     "name": "stdout",
     "output_type": "stream",
     "text": [
      "4 3.0 2.31 1.23169\n"
     ]
    }
   ],
   "source": [
    "number=1234\n",
    "digit1 = number % 10\n",
    "digit2 = (number % 100 - digit1) / 10\n",
    "digit3 = (number % 1000 - digit2) / 100\n",
    "digit4 = (number - digit3) / 1000\n",
    "print(digit1,digit2,digit3,digit4)"
   ]
  },
  {
   "cell_type": "code",
   "execution_count": 13,
   "metadata": {},
   "outputs": [
    {
     "name": "stdout",
     "output_type": "stream",
     "text": [
      "Enter four positive integer: 1234\n",
      "\n",
      " 1 \n",
      " 2 \n",
      " 3 \n",
      " 4\n"
     ]
    }
   ],
   "source": [
    "#Problem:3.32\n",
    "num=eval(input(\"Enter four positive integer: \"))\n",
    "m = num//1000\n",
    "c = (num%1000 - num%100)//100\n",
    "d = (num%100 - num%10)//10\n",
    "u = num%10\n",
    "print(\"\\n\",m,\"\\n\",c,\"\\n\",d,\"\\n\",u)"
   ]
  },
  {
   "cell_type": "code",
   "execution_count": 18,
   "metadata": {},
   "outputs": [
    {
     "name": "stdout",
     "output_type": "stream",
     "text": [
      "Enter your string: AND\n",
      "DNA\n"
     ]
    }
   ],
   "source": [
    "#Problem:3.33\n",
    "def reverse():\n",
    "    string=str(input(\"Enter your string: \"))\n",
    "    reverse_string=string[::-1]\n",
    "    print(reverse_string)\n",
    "    return\n",
    "reverse()"
   ]
  },
  {
   "cell_type": "code",
   "execution_count": 21,
   "metadata": {},
   "outputs": [
    {
     "name": "stdout",
     "output_type": "stream",
     "text": [
      "Enter the hourly wage: 10\n",
      "Enter the hours employee worked in last weeked: 35\n",
      "The payment is 350\n",
      "Enter the hourly wage: 10\n",
      "Enter the hours employee worked in last weeked: 45\n",
      "The payment with bonus is:  475.0\n"
     ]
    }
   ],
   "source": [
    "#Problem:3.34\n",
    "def pay(wages,hoursworked):\n",
    "    if hoursworked > 40:\n",
    "        payment= (wages*40)+((wages*1.5)*(hoursworked-40))\n",
    "        print(\"The payment with bonus is: \",payment)\n",
    "    else:\n",
    "        payment=wages*hoursworked\n",
    "        print(\"The payment is\",payment)\n",
    "    return\n",
    "wages=eval(input(\"Enter the hourly wage: \"))\n",
    "hoursworked=eval(input(\"Enter the hours employee worked in last weeked: \"))\n",
    "pay(wages,hoursworked)\n",
    "#part b\n",
    "wages=eval(input(\"Enter the hourly wage: \"))\n",
    "hoursworked=eval(input(\"Enter the hours employee worked in last weeked: \"))\n",
    "pay(wages,hoursworked)\n",
    "        "
   ]
  },
  {
   "cell_type": "code",
   "execution_count": 1,
   "metadata": {},
   "outputs": [
    {
     "name": "stdout",
     "output_type": "stream",
     "text": [
      "Enter the number: 1\n",
      "0.5\n",
      "Enter the number: 2\n",
      "0.25\n"
     ]
    }
   ],
   "source": [
    "#Problem:3.35\n",
    "def prob():\n",
    "    probablity=2**(-n)\n",
    "    print(probablity)\n",
    "    return\n",
    "n=eval(input(\"Enter the number: \"))\n",
    "prob()\n",
    "\n",
    "#b\n",
    "n=eval(input(\"Enter the number: \"))\n",
    "prob()"
   ]
  },
  {
   "cell_type": "code",
   "execution_count": 5,
   "metadata": {},
   "outputs": [
    {
     "name": "stdout",
     "output_type": "stream",
     "text": [
      "Enter the number: 123\n",
      "321\n"
     ]
    }
   ],
   "source": [
    "#Problem:3.36\n",
    "def reverse_int(number):\n",
    "    reverse=0\n",
    "    while(number>0):\n",
    "        remainder=number%10\n",
    "        reverse=(reverse*10)+remainder\n",
    "        number = number //10\n",
    "    print(reverse)\n",
    "    return\n",
    "number=eval(input(\"Enter the number: \"))\n",
    "reverse_int(number)"
   ]
  },
  {
   "cell_type": "code",
   "execution_count": null,
   "metadata": {},
   "outputs": [],
   "source": []
  }
 ],
 "metadata": {
  "kernelspec": {
   "display_name": "Python 3",
   "language": "python",
   "name": "python3"
  },
  "language_info": {
   "codemirror_mode": {
    "name": "ipython",
    "version": 3
   },
   "file_extension": ".py",
   "mimetype": "text/x-python",
   "name": "python",
   "nbconvert_exporter": "python",
   "pygments_lexer": "ipython3",
   "version": "3.7.3"
  }
 },
 "nbformat": 4,
 "nbformat_minor": 2
}
